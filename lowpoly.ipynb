{
 "cells": [
  {
   "cell_type": "code",
   "execution_count": 2,
   "metadata": {},
   "outputs": [],
   "source": [
    "import sys\n",
    "import cv2 as cv\n",
    "import random\n",
    "import math\n",
    "import numpy as np\n",
    "import matplotlib.pyplot as plt\n",
    "import pandas as pd\n",
    "from scipy.spatial import Delaunay\n",
    "from scipy.signal import convolve2d\n",
    "from PIL import Image, ImageOps, ImageDraw"
   ]
  },
  {
   "cell_type": "code",
   "execution_count": 3,
   "metadata": {},
   "outputs": [],
   "source": [
    "#Functions---------------------------------\n",
    "\n",
    "def plot(img):\n",
    "    plt.imshow(img, cmap = 'gray')\n",
    "    plt.show()\n",
    "\n",
    "def pad_img(img1, img2):\n",
    "    m1, n1 = img1.shape[:2]\n",
    "    m2, n2 = img2.shape[:2]\n",
    "    x_pad = np.abs(m2-m1)/2\n",
    "    y_pad = np.abs(n2-n1)/2\n",
    "    img2 = img2[x_pad:m1+x_pad, y_pad:n1+y_pad]\n",
    "    return img2"
   ]
  },
  {
   "cell_type": "code",
   "execution_count": 4,
   "metadata": {},
   "outputs": [],
   "source": [
    "#Variables----------------------------------\n",
    "\n",
    "ddepth = cv.CV_16S\n",
    "kernel_size = 3"
   ]
  },
  {
   "cell_type": "code",
   "execution_count": 5,
   "metadata": {},
   "outputs": [],
   "source": [
    "#1) Load Image-------------------------------------\n",
    "img_name = 'beatles_-_abbey_road.jpg'\n",
    "src = cv.imread(img_name, cv.IMREAD_COLOR)\n",
    "src = cv.GaussianBlur(src, (5, 5), 0) #Remove noise by blurring\n",
    "src_gray = cv.cvtColor(src, cv.COLOR_BGR2GRAY) #Convert to Grayscale\n"
   ]
  },
  {
   "cell_type": "code",
   "execution_count": 27,
   "metadata": {},
   "outputs": [],
   "source": [
    "#2) Canny Edge Detection----------------------------\n",
    "lower = 100\n",
    "upper = 250\n",
    "edges = cv.Canny(src_gray, lower, upper)\n",
    "edges_new = cv.cvtColor(edges, cv.COLOR_GRAY2RGB)\n",
    "#mask = cv.inRange(edges_new, np.array([255,255,255]), np.array([255,255,255]))\n",
    "#res = cv.bitwise_and(edges_new, edges_new, mask=mask)\n",
    "#cv.imshow(\"\", edges_new)\n",
    "#cv.waitKey(0)\n",
    "#cv.destroyAllWindows()"
   ]
  },
  {
   "cell_type": "code",
   "execution_count": 36,
   "metadata": {},
   "outputs": [
    {
     "ename": "AttributeError",
     "evalue": "module 'cv2' has no attribute 'CV_8F'",
     "output_type": "error",
     "traceback": [
      "\u001b[1;31m---------------------------------------------------------------------------\u001b[0m",
      "\u001b[1;31mAttributeError\u001b[0m                            Traceback (most recent call last)",
      "\u001b[1;32mc:\\Users\\zacha\\Documents\\GitHub\\Polynate\\lowpoly.ipynb Cell 5\u001b[0m in \u001b[0;36m<cell line: 7>\u001b[1;34m()\u001b[0m\n\u001b[0;32m      <a href='vscode-notebook-cell:/c%3A/Users/zacha/Documents/GitHub/Polynate/lowpoly.ipynb#ch0000010?line=3'>4</a>\u001b[0m src_gray \u001b[39m=\u001b[39m cv\u001b[39m.\u001b[39mcvtColor(src, cv\u001b[39m.\u001b[39mCOLOR_BGR2GRAY) \u001b[39m#Convert to Grayscale\u001b[39;00m\n\u001b[0;32m      <a href='vscode-notebook-cell:/c%3A/Users/zacha/Documents/GitHub/Polynate/lowpoly.ipynb#ch0000010?line=5'>6</a>\u001b[0m \u001b[39m#Sobel--------------------------------------\u001b[39;00m\n\u001b[1;32m----> <a href='vscode-notebook-cell:/c%3A/Users/zacha/Documents/GitHub/Polynate/lowpoly.ipynb#ch0000010?line=6'>7</a>\u001b[0m sobel_x \u001b[39m=\u001b[39m cv\u001b[39m.\u001b[39mSobel(src, cv\u001b[39m.\u001b[39;49mCV_8F, \u001b[39m1\u001b[39m, \u001b[39m0\u001b[39m, ksize \u001b[39m=\u001b[39m \u001b[39m3\u001b[39m)\n\u001b[0;32m      <a href='vscode-notebook-cell:/c%3A/Users/zacha/Documents/GitHub/Polynate/lowpoly.ipynb#ch0000010?line=7'>8</a>\u001b[0m sobel_y \u001b[39m=\u001b[39m cv\u001b[39m.\u001b[39mSobel(src, cv\u001b[39m.\u001b[39mCV_8F, \u001b[39m0\u001b[39m, \u001b[39m1\u001b[39m, ksize \u001b[39m=\u001b[39m \u001b[39m3\u001b[39m)\n\u001b[0;32m      <a href='vscode-notebook-cell:/c%3A/Users/zacha/Documents/GitHub/Polynate/lowpoly.ipynb#ch0000010?line=8'>9</a>\u001b[0m sobel_first \u001b[39m=\u001b[39m cv\u001b[39m.\u001b[39mmagnitude(sobel_x, sobel_y)\n",
      "\u001b[1;31mAttributeError\u001b[0m: module 'cv2' has no attribute 'CV_8F'"
     ]
    }
   ],
   "source": [
    "#2) Transform Image\n",
    "\n",
    "\n",
    "\n",
    "#Sobel--------------------------------------\n",
    "sobel_x = cv.Sobel(src, cv.CV_8F, 1, 0, ksize = 3)\n",
    "sobel_y = cv.Sobel(src, cv.CV_8F, 0, 1, ksize = 3)\n",
    "sobel_first = cv.magnitude(sobel_x, sobel_y)\n",
    "\n",
    "sobel = np.empty_like(sobel_first)\n",
    "sobel[:] = sobel_first\n",
    "sobel[sobel > 50] = 255\n",
    "sobel[sobel < 50] = 0\n",
    "sobel_gray = cv.cvtColor(sobel, cv.COLOR_BGR2GRAY)\n",
    "\n",
    "#Laplacian-----------------------------------\n",
    "\n",
    "LoG = cv.Laplacian(src_gray, ddepth, ksize = 3)\n",
    "minLoG = cv.morphologyEx(LoG, cv.MORPH_ERODE, np.ones((3, 3)))\n",
    "maxLoG = cv.morphologyEx(LoG, cv.MORPH_DILATE, np.ones((3, 3)))\n",
    "zeroCross = np.logical_or(np.logical_and(minLoG < 0, LoG > 0), np.logical_and(maxLoG > 0, LoG < 0))\n",
    " \n",
    "\n",
    "\n",
    "edges_df = pd.DataFrame(data = LoG)\n",
    "zeroCross_df = pd.DataFrame(data = zeroCross)\n",
    "\n",
    "sobel(np.logical_and(zeroCross, sobel))"
   ]
  },
  {
   "cell_type": "code",
   "execution_count": null,
   "metadata": {},
   "outputs": [],
   "source": []
  }
 ],
 "metadata": {
  "kernelspec": {
   "display_name": "Python 3.10.4 ('polynate')",
   "language": "python",
   "name": "python3"
  },
  "language_info": {
   "codemirror_mode": {
    "name": "ipython",
    "version": 3
   },
   "file_extension": ".py",
   "mimetype": "text/x-python",
   "name": "python",
   "nbconvert_exporter": "python",
   "pygments_lexer": "ipython3",
   "version": "3.10.4"
  },
  "orig_nbformat": 4,
  "vscode": {
   "interpreter": {
    "hash": "b7862d127e24b818d46a6f8d0257fb66f297aa6fa14c5a9c2fdf6cf2a5ab55ff"
   }
  }
 },
 "nbformat": 4,
 "nbformat_minor": 2
}
