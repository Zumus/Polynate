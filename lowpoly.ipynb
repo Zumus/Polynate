{
 "cells": [
  {
   "cell_type": "code",
   "execution_count": 47,
   "metadata": {},
   "outputs": [],
   "source": [
    "import sys\n",
    "import cv2 as cv\n",
    "import random\n",
    "import math\n",
    "import numpy as np\n",
    "import matplotlib.pyplot as plt\n",
    "import pandas as pd\n",
    "from scipy.spatial import Delaunay\n",
    "from scipy.signal import convolve2d\n",
    "from PIL import Image, ImageOps, ImageDraw"
   ]
  },
  {
   "cell_type": "code",
   "execution_count": 48,
   "metadata": {},
   "outputs": [],
   "source": [
    "#Functions---------------------------------\n",
    "\n",
    "def plot(img):\n",
    "    plt.imshow(img, cmap = 'gray')\n",
    "    plt.show()\n",
    "\n",
    "def pad_img(img1, img2):\n",
    "    m1, n1 = img1.shape[:2]\n",
    "    m2, n2 = img2.shape[:2]\n",
    "    x_pad = np.abs(m2-m1)/2\n",
    "    y_pad = np.abs(n2-n1)/2\n",
    "    img2 = img2[x_pad:m1+x_pad, y_pad:n1+y_pad]\n",
    "    return img2"
   ]
  },
  {
   "cell_type": "code",
   "execution_count": 69,
   "metadata": {},
   "outputs": [],
   "source": [
    "#Variables----------------------------------\n",
    "\n",
    "ddepth = cv.CV_16S\n",
    "kernel_size = 3\n",
    "n=10000"
   ]
  },
  {
   "cell_type": "code",
   "execution_count": 63,
   "metadata": {},
   "outputs": [],
   "source": [
    "#1) Load Image-------------------------------------\n",
    "img_name = 'beatles_-_abbey_road.jpg'\n",
    "src = cv.imread(img_name, cv.IMREAD_COLOR)\n",
    "src = cv.GaussianBlur(src, (5, 5), 0) #Remove noise by blurring\n",
    "src_gray = cv.cvtColor(src, cv.COLOR_BGR2GRAY) #Convert to Grayscale\n",
    "\n",
    "\n",
    "width = src.shape[0]\n",
    "height = src.shape[1]\n",
    "\n",
    "temp = Image.open(img_name)\n",
    "img_np = temp.load()"
   ]
  },
  {
   "cell_type": "code",
   "execution_count": 70,
   "metadata": {},
   "outputs": [],
   "source": [
    "#2) Canny Edge Detection----------------------------\n",
    "lower = 100\n",
    "upper = 250\n",
    "edges = cv.Canny(src_gray, lower, upper)\n",
    "edges_new = cv.cvtColor(edges, cv.COLOR_GRAY2RGB)\n",
    "#mask = cv.inRange(edges_new, np.array([255,255,255]), np.array([255,255,255]))\n",
    "#res = cv.bitwise_and(edges_new, edges_new, mask=mask)\n",
    "#cv.imshow(\"\", edges_new)\n",
    "#cv.waitKey(0)\n",
    "#cv.destroyAllWindows()"
   ]
  },
  {
   "cell_type": "code",
   "execution_count": 120,
   "metadata": {},
   "outputs": [],
   "source": [
    "\n",
    "def search_coordinate(df_data: pd.DataFrame, search_set: set) -> list:\n",
    "    nda_values = df_data.values\n",
    "    tuple_index = np.where(np.isin(nda_values, [e for e in search_set]))\n",
    "    return [(col, row) for row, col in zip(tuple_index[0], tuple_index[1])]\n",
    "\n",
    "sample = pd.DataFrame(data = edges)\n",
    "searches= search_coordinate(sample, {255})\n",
    "coords = random.choices(searches, k = n//4)"
   ]
  },
  {
   "cell_type": "code",
   "execution_count": 121,
   "metadata": {},
   "outputs": [],
   "source": [
    "pic = Image.new(mode = \"RGB\", size=(width, height))\n",
    "draw = ImageDraw.Draw(pic)\n",
    "draw.point(coords)\n",
    "#pic.show()\n",
    "\n",
    "tri = Delaunay(coords)\n",
    "#test = pd.DataFrame(data = coords)\n",
    "#draw.polygon(tri.simplices)\n",
    "new_coords = np.array(coords)\n",
    "#new_coords[tri.simplices]\n",
    "#i=0\n",
    "for triangle in new_coords[tri.simplices]:\n",
    "    row = triangle[1].tolist()[0]\n",
    "    col = triangle[1].tolist()[1]\n",
    "    color = img_np[col, row]\n",
    "    draw.polygon([(triangle[0].tolist()[1], triangle[0].tolist()[0]), (triangle[1].tolist()[1], triangle[1].tolist()[0]), (triangle[2].tolist()[1], triangle[2].tolist()[0])], fill=color)\n",
    "    #i += 1\n",
    "pic.show()"
   ]
  },
  {
   "cell_type": "code",
   "execution_count": 82,
   "metadata": {},
   "outputs": [
    {
     "ename": "IndexError",
     "evalue": "Too many levels: Index has only 1 level, not 2",
     "output_type": "error",
     "traceback": [
      "\u001b[1;31m---------------------------------------------------------------------------\u001b[0m",
      "\u001b[1;31mIndexError\u001b[0m                                Traceback (most recent call last)",
      "\u001b[1;32mc:\\Users\\zacha\\Documents\\GitHub\\Polynate\\lowpoly.ipynb Cell 7\u001b[0m in \u001b[0;36m<cell line: 6>\u001b[1;34m()\u001b[0m\n\u001b[0;32m      <a href='vscode-notebook-cell:/c%3A/Users/zacha/Documents/GitHub/Polynate/lowpoly.ipynb#ch0000014?line=2'>3</a>\u001b[0m max_index \u001b[39m=\u001b[39m sample1\u001b[39m.\u001b[39mappend(sample2)\n\u001b[0;32m      <a href='vscode-notebook-cell:/c%3A/Users/zacha/Documents/GitHub/Polynate/lowpoly.ipynb#ch0000014?line=3'>4</a>\u001b[0m \u001b[39m#max_index = pd.DataFrame(data=edges).stack().sort_values(ascending=False).index[0:n]\u001b[39;00m\n\u001b[1;32m----> <a href='vscode-notebook-cell:/c%3A/Users/zacha/Documents/GitHub/Polynate/lowpoly.ipynb#ch0000014?line=5'>6</a>\u001b[0m x \u001b[39m=\u001b[39m max_index\u001b[39m.\u001b[39;49mget_level_values(\u001b[39m1\u001b[39;49m)\n\u001b[0;32m      <a href='vscode-notebook-cell:/c%3A/Users/zacha/Documents/GitHub/Polynate/lowpoly.ipynb#ch0000014?line=6'>7</a>\u001b[0m y \u001b[39m=\u001b[39m max_index\u001b[39m.\u001b[39mget_level_values(\u001b[39m0\u001b[39m)\n\u001b[0;32m      <a href='vscode-notebook-cell:/c%3A/Users/zacha/Documents/GitHub/Polynate/lowpoly.ipynb#ch0000014?line=8'>9</a>\u001b[0m coords \u001b[39m=\u001b[39m [(i, j) \u001b[39mfor\u001b[39;00m i, j \u001b[39min\u001b[39;00m \u001b[39mzip\u001b[39m(x, y)]\n",
      "File \u001b[1;32mc:\\ProgramData\\Anaconda3\\envs\\polynate\\lib\\site-packages\\pandas\\core\\indexes\\base.py:2008\u001b[0m, in \u001b[0;36mIndex._get_level_values\u001b[1;34m(self, level)\u001b[0m\n\u001b[0;32m   1972\u001b[0m \u001b[39mdef\u001b[39;00m \u001b[39m_get_level_values\u001b[39m(\u001b[39mself\u001b[39m, level) \u001b[39m-\u001b[39m\u001b[39m>\u001b[39m Index:\n\u001b[0;32m   1973\u001b[0m     \u001b[39m\"\"\"\u001b[39;00m\n\u001b[0;32m   1974\u001b[0m \u001b[39m    Return an Index of values for requested level.\u001b[39;00m\n\u001b[0;32m   1975\u001b[0m \n\u001b[1;32m   (...)\u001b[0m\n\u001b[0;32m   2006\u001b[0m \u001b[39m    Index(['a', 'b', 'c'], dtype='object')\u001b[39;00m\n\u001b[0;32m   2007\u001b[0m \u001b[39m    \"\"\"\u001b[39;00m\n\u001b[1;32m-> 2008\u001b[0m     \u001b[39mself\u001b[39;49m\u001b[39m.\u001b[39;49m_validate_index_level(level)\n\u001b[0;32m   2009\u001b[0m     \u001b[39mreturn\u001b[39;00m \u001b[39mself\u001b[39m\n",
      "File \u001b[1;32mc:\\ProgramData\\Anaconda3\\envs\\polynate\\lib\\site-packages\\pandas\\core\\indexes\\base.py:1927\u001b[0m, in \u001b[0;36mIndex._validate_index_level\u001b[1;34m(self, level)\u001b[0m\n\u001b[0;32m   1922\u001b[0m         \u001b[39mraise\u001b[39;00m \u001b[39mIndexError\u001b[39;00m(\n\u001b[0;32m   1923\u001b[0m             \u001b[39m\"\u001b[39m\u001b[39mToo many levels: Index has only 1 level, \u001b[39m\u001b[39m\"\u001b[39m\n\u001b[0;32m   1924\u001b[0m             \u001b[39mf\u001b[39m\u001b[39m\"\u001b[39m\u001b[39m{\u001b[39;00mlevel\u001b[39m}\u001b[39;00m\u001b[39m is not a valid level number\u001b[39m\u001b[39m\"\u001b[39m\n\u001b[0;32m   1925\u001b[0m         )\n\u001b[0;32m   1926\u001b[0m     \u001b[39melif\u001b[39;00m level \u001b[39m>\u001b[39m \u001b[39m0\u001b[39m:\n\u001b[1;32m-> 1927\u001b[0m         \u001b[39mraise\u001b[39;00m \u001b[39mIndexError\u001b[39;00m(\n\u001b[0;32m   1928\u001b[0m             \u001b[39mf\u001b[39m\u001b[39m\"\u001b[39m\u001b[39mToo many levels: Index has only 1 level, not \u001b[39m\u001b[39m{\u001b[39;00mlevel \u001b[39m+\u001b[39m \u001b[39m1\u001b[39m\u001b[39m}\u001b[39;00m\u001b[39m\"\u001b[39m\n\u001b[0;32m   1929\u001b[0m         )\n\u001b[0;32m   1930\u001b[0m \u001b[39melif\u001b[39;00m level \u001b[39m!=\u001b[39m \u001b[39mself\u001b[39m\u001b[39m.\u001b[39mname:\n\u001b[0;32m   1931\u001b[0m     \u001b[39mraise\u001b[39;00m \u001b[39mKeyError\u001b[39;00m(\n\u001b[0;32m   1932\u001b[0m         \u001b[39mf\u001b[39m\u001b[39m\"\u001b[39m\u001b[39mRequested level (\u001b[39m\u001b[39m{\u001b[39;00mlevel\u001b[39m}\u001b[39;00m\u001b[39m) does not match index name (\u001b[39m\u001b[39m{\u001b[39;00m\u001b[39mself\u001b[39m\u001b[39m.\u001b[39mname\u001b[39m}\u001b[39;00m\u001b[39m)\u001b[39m\u001b[39m\"\u001b[39m\n\u001b[0;32m   1933\u001b[0m     )\n",
      "\u001b[1;31mIndexError\u001b[0m: Too many levels: Index has only 1 level, not 2"
     ]
    }
   ],
   "source": [
    "sample1=pd.DataFrame(data=edges)\n",
    "sample2=pd.DataFrame(data=edges)\n",
    "max_index = sample1.append(sample2)\n",
    "#max_index = pd.DataFrame(data=edges).stack().sort_values(ascending=False).index[0:n]\n",
    "\n",
    "x = max_index.get_level_values(1)\n",
    "y = max_index.get_level_values(0)\n",
    "\n",
    "coords = [(i, j) for i, j in zip(x, y)]\n",
    "coords_reverse = [(j, i) for i, j in zip(x, y)]\n",
    "coord_list = [[i, j] for i, j in zip(x, y)]\n",
    "#triangulate_coords = [(i, height-j) for i, j in zip(x, y)]\n",
    "\n",
    "#chance_array = pd.DataFrame(data=chances)\n",
    "#chance_array.hood = \n",
    "#unique_vals = pd.DataFrame(data=chances).stack().unique()\n",
    "#test\n",
    "#PIL indexes [col, row], or [y, x] Delaunay indexes [x, y], starting from 0\n",
    "\n",
    "#Need to figure out how to unpack it to make it triangulate the correct way\n",
    "\n",
    "#3) Create new PIL image and plot points\n",
    "\n",
    "pic = Image.new(mode = \"RGB\", size=(width, height))\n",
    "draw = ImageDraw.Draw(pic)\n",
    "draw.point(coords)\n",
    "pic.show()\n",
    "\n",
    "tri = Delaunay(coords)\n",
    "test = pd.DataFrame(data = coords)\n",
    "#draw.polygon(tri.simplices)\n",
    "new_coords = np.array(coords)\n",
    "#new_coords[tri.simplices]\n",
    "#i=0\n",
    "for triangle in new_coords[tri.simplices]:\n",
    "    row = triangle[1].tolist()[0]\n",
    "    col = triangle[1].tolist()[1]\n",
    "    color = img_np[col, row]\n",
    "    draw.polygon([(triangle[0].tolist()[1], triangle[0].tolist()[0]), (triangle[1].tolist()[1], triangle[1].tolist()[0]), (triangle[2].tolist()[1], triangle[2].tolist()[0])], fill=color)\n",
    "    #i += 1\n",
    "#pic.show()"
   ]
  },
  {
   "cell_type": "code",
   "execution_count": 35,
   "metadata": {},
   "outputs": [
    {
     "ename": "error",
     "evalue": "OpenCV(4.5.5) :-1: error: (-5:Bad argument) in function 'bitwise_and'\n> Overload resolution failed:\n>  - src1 data type = 0 is not supported\n>  - Expected Ptr<cv::UMat> for argument 'src1'\n",
     "output_type": "error",
     "traceback": [
      "\u001b[1;31m---------------------------------------------------------------------------\u001b[0m",
      "\u001b[1;31merror\u001b[0m                                     Traceback (most recent call last)",
      "\u001b[1;32mc:\\Users\\zacha\\Documents\\GitHub\\Polynate\\lowpoly.ipynb Cell 6\u001b[0m in \u001b[0;36m<cell line: 28>\u001b[1;34m()\u001b[0m\n\u001b[0;32m     <a href='vscode-notebook-cell:/c%3A/Users/zacha/Documents/GitHub/Polynate/lowpoly.ipynb#ch0000010?line=24'>25</a>\u001b[0m edges_df \u001b[39m=\u001b[39m pd\u001b[39m.\u001b[39mDataFrame(data \u001b[39m=\u001b[39m LoG)\n\u001b[0;32m     <a href='vscode-notebook-cell:/c%3A/Users/zacha/Documents/GitHub/Polynate/lowpoly.ipynb#ch0000010?line=25'>26</a>\u001b[0m zeroCross_df \u001b[39m=\u001b[39m pd\u001b[39m.\u001b[39mDataFrame(data \u001b[39m=\u001b[39m zeroCross)\n\u001b[1;32m---> <a href='vscode-notebook-cell:/c%3A/Users/zacha/Documents/GitHub/Polynate/lowpoly.ipynb#ch0000010?line=27'>28</a>\u001b[0m cv\u001b[39m.\u001b[39mimshow(\u001b[39m\"\u001b[39m\u001b[39m\"\u001b[39m, cv\u001b[39m.\u001b[39;49mbitwise_and(zeroCross, sobel))\n\u001b[0;32m     <a href='vscode-notebook-cell:/c%3A/Users/zacha/Documents/GitHub/Polynate/lowpoly.ipynb#ch0000010?line=28'>29</a>\u001b[0m cv\u001b[39m.\u001b[39mwaitKey(\u001b[39m0\u001b[39m)\n\u001b[0;32m     <a href='vscode-notebook-cell:/c%3A/Users/zacha/Documents/GitHub/Polynate/lowpoly.ipynb#ch0000010?line=29'>30</a>\u001b[0m cv\u001b[39m.\u001b[39mdestroyAllWindows()\n",
      "\u001b[1;31merror\u001b[0m: OpenCV(4.5.5) :-1: error: (-5:Bad argument) in function 'bitwise_and'\n> Overload resolution failed:\n>  - src1 data type = 0 is not supported\n>  - Expected Ptr<cv::UMat> for argument 'src1'\n"
     ]
    }
   ],
   "source": [
    "#2) Transform Image\n",
    "\n",
    "\n",
    "\n",
    "#Sobel--------------------------------------\n",
    "sobel_x = cv.Sobel(src_gray, cv.CV_32F, 1, 0, ksize = 3)\n",
    "sobel_y = cv.Sobel(src_gray, cv.CV_32F, 0, 1, ksize = 3)\n",
    "sobel_first = cv.magnitude(sobel_x, sobel_y)\n",
    "\n",
    "sobel = np.empty_like(sobel_first)\n",
    "sobel[:] = sobel_first\n",
    "sobel[sobel > 50] = 255\n",
    "sobel[sobel < 50] = 0\n",
    "#sobel_gray = cv.cvtColor(sobel, cv.COLOR_BGR2GRAY)\n",
    "\n",
    "#Laplacian-----------------------------------\n",
    "\n",
    "LoG = cv.Laplacian(src_gray, ddepth, ksize = 3)\n",
    "minLoG = cv.morphologyEx(LoG, cv.MORPH_ERODE, np.ones((3, 3)))\n",
    "maxLoG = cv.morphologyEx(LoG, cv.MORPH_DILATE, np.ones((3, 3)))\n",
    "zeroCross = np.logical_or(np.logical_and(minLoG < 0, LoG > 0), np.logical_and(maxLoG > 0, LoG < 0))\n",
    " \n",
    "\n",
    "\n",
    "edges_df = pd.DataFrame(data = LoG)\n",
    "zeroCross_df = pd.DataFrame(data = zeroCross)\n",
    "\n",
    "#cv.imshow(\"\", cv.bitwise_and(zeroCross, sobel))\n",
    "#cv.waitKey(0)\n",
    "#cv.destroyAllWindows()"
   ]
  },
  {
   "cell_type": "code",
   "execution_count": null,
   "metadata": {},
   "outputs": [],
   "source": []
  }
 ],
 "metadata": {
  "kernelspec": {
   "display_name": "Python 3.10.4 ('polynate')",
   "language": "python",
   "name": "python3"
  },
  "language_info": {
   "codemirror_mode": {
    "name": "ipython",
    "version": 3
   },
   "file_extension": ".py",
   "mimetype": "text/x-python",
   "name": "python",
   "nbconvert_exporter": "python",
   "pygments_lexer": "ipython3",
   "version": "3.10.4"
  },
  "orig_nbformat": 4,
  "vscode": {
   "interpreter": {
    "hash": "b7862d127e24b818d46a6f8d0257fb66f297aa6fa14c5a9c2fdf6cf2a5ab55ff"
   }
  }
 },
 "nbformat": 4,
 "nbformat_minor": 2
}
